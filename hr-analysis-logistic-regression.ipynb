{
 "cells": [
  {
   "cell_type": "markdown",
   "id": "80498ccf",
   "metadata": {
    "_cell_guid": "b1076dfc-b9ad-4769-8c92-a6c4dae69d19",
    "_uuid": "8f2839f25d086af736a60e9eeb907d3b93b6e0e5",
    "papermill": {
     "duration": 0.013344,
     "end_time": "2023-06-05T11:12:53.530813",
     "exception": false,
     "start_time": "2023-06-05T11:12:53.517469",
     "status": "completed"
    },
    "tags": []
   },
   "source": [
    "## <center> HR Analysis Using Logistic Regression "
   ]
  },
  {
   "cell_type": "markdown",
   "id": "152f3dcd",
   "metadata": {
    "papermill": {
     "duration": 0.011251,
     "end_time": "2023-06-05T11:12:53.553718",
     "exception": false,
     "start_time": "2023-06-05T11:12:53.542467",
     "status": "completed"
    },
    "tags": []
   },
   "source": [
    "* Introduction and Overview\n",
    "> Embark on a captivating journey through human resources data, unveiling hidden insights. Each data point tells a unique story, revealing the delicate balance of employee experiences. From satisfaction and productivity to growth and collaboration, the dataset paints a vivid picture. Witness dedication and resilience through projects and average monthly hours. Experience the evolution of loyalty and wisdom over time. Reflect on safety, retention, recognition, and the vibrant interplay of departments. Appreciate the spectrum of salaries as symbols of reward. Unravel the secrets within, guiding us towards a future where data-driven strategies and human well-being intertwine, fostering success and fulfillment."
   ]
  },
  {
   "cell_type": "markdown",
   "id": "36f9e731",
   "metadata": {
    "papermill": {
     "duration": 0.01102,
     "end_time": "2023-06-05T11:12:53.576223",
     "exception": false,
     "start_time": "2023-06-05T11:12:53.565203",
     "status": "completed"
    },
    "tags": []
   },
   "source": [
    "## Table of Contents"
   ]
  },
  {
   "cell_type": "markdown",
   "id": "d505b5c0",
   "metadata": {
    "papermill": {
     "duration": 0.010593,
     "end_time": "2023-06-05T11:12:53.597954",
     "exception": false,
     "start_time": "2023-06-05T11:12:53.587361",
     "status": "completed"
    },
    "tags": []
   },
   "source": [
    "- [Import Libraries](#Libraries)\n",
    "- [Input Scrollable Function](#Scrolling)\n",
    "- [Data Loading and Preprocessing](#Data)\n",
    "- [Exploratory Data Analysis (EDA)](#Analysis)\n",
    "- [Feature Engineering](#Engineering)\n",
    "- [Model Building](#Model)\n",
    "- [Model Evaluation](#Evaluation)\n",
    "- [Model Interpretation and Explainability](#Interpreation)"
   ]
  },
  {
   "cell_type": "markdown",
   "id": "8c2b5877",
   "metadata": {
    "papermill": {
     "duration": 0.010658,
     "end_time": "2023-06-05T11:12:53.619818",
     "exception": false,
     "start_time": "2023-06-05T11:12:53.609160",
     "status": "completed"
    },
    "tags": []
   },
   "source": [
    "## 1. Import Libraries"
   ]
  },
  {
   "cell_type": "code",
   "execution_count": 1,
   "id": "dde9847e",
   "metadata": {
    "execution": {
     "iopub.execute_input": "2023-06-05T11:12:53.644608Z",
     "iopub.status.busy": "2023-06-05T11:12:53.643774Z",
     "iopub.status.idle": "2023-06-05T11:12:55.891308Z",
     "shell.execute_reply": "2023-06-05T11:12:55.890103Z"
    },
    "papermill": {
     "duration": 2.263091,
     "end_time": "2023-06-05T11:12:55.894109",
     "exception": false,
     "start_time": "2023-06-05T11:12:53.631018",
     "status": "completed"
    },
    "tags": []
   },
   "outputs": [],
   "source": [
    "import pandas as pd\n",
    "import numpy as np\n",
    "import matplotlib.pyplot as plt\n",
    "import seaborn as sns\n",
    "from sklearn.model_selection import train_test_split\n",
    "from sklearn.linear_model import LogisticRegression\n",
    "%matplotlib inline\n",
    "from IPython.display import display, HTML"
   ]
  },
  {
   "cell_type": "markdown",
   "id": "6ca24ece",
   "metadata": {
    "execution": {
     "iopub.execute_input": "2023-06-04T17:46:58.762768Z",
     "iopub.status.busy": "2023-06-04T17:46:58.762162Z",
     "iopub.status.idle": "2023-06-04T17:46:58.947393Z",
     "shell.execute_reply": "2023-06-04T17:46:58.945884Z",
     "shell.execute_reply.started": "2023-06-04T17:46:58.762737Z"
    },
    "papermill": {
     "duration": 0.010655,
     "end_time": "2023-06-05T11:12:55.916022",
     "exception": false,
     "start_time": "2023-06-05T11:12:55.905367",
     "status": "completed"
    },
    "tags": []
   },
   "source": [
    "## 2. Input Scrolling Function"
   ]
  },
  {
   "cell_type": "code",
   "execution_count": 2,
   "id": "d82822bb",
   "metadata": {
    "execution": {
     "iopub.execute_input": "2023-06-05T11:12:55.940523Z",
     "iopub.status.busy": "2023-06-05T11:12:55.939896Z",
     "iopub.status.idle": "2023-06-05T11:12:55.945603Z",
     "shell.execute_reply": "2023-06-05T11:12:55.944724Z"
    },
    "papermill": {
     "duration": 0.020899,
     "end_time": "2023-06-05T11:12:55.947930",
     "exception": false,
     "start_time": "2023-06-05T11:12:55.927031",
     "status": "completed"
    },
    "tags": []
   },
   "outputs": [],
   "source": [
    "# Function to create scrollable table within a small window\n",
    "def create_scrollable_table(df, table_id, title):\n",
    "    html = f'<h3>{title}</h3>'\n",
    "    html += f'<div id=\"{table_id}\" style=\"height:200px; overflow:auto;\">'\n",
    "    html += df.to_html()\n",
    "    html += '</div>'\n",
    "    return html\n"
   ]
  },
  {
   "cell_type": "markdown",
   "id": "7c3a0491",
   "metadata": {
    "papermill": {
     "duration": 0.010701,
     "end_time": "2023-06-05T11:12:55.969684",
     "exception": false,
     "start_time": "2023-06-05T11:12:55.958983",
     "status": "completed"
    },
    "tags": []
   },
   "source": [
    "## 3. Data Loading and Preprocessing"
   ]
  },
  {
   "cell_type": "code",
   "execution_count": 3,
   "id": "b23498e9",
   "metadata": {
    "execution": {
     "iopub.execute_input": "2023-06-05T11:12:55.993354Z",
     "iopub.status.busy": "2023-06-05T11:12:55.992905Z",
     "iopub.status.idle": "2023-06-05T11:12:56.085742Z",
     "shell.execute_reply": "2023-06-05T11:12:56.084613Z"
    },
    "papermill": {
     "duration": 0.107576,
     "end_time": "2023-06-05T11:12:56.088218",
     "exception": false,
     "start_time": "2023-06-05T11:12:55.980642",
     "status": "completed"
    },
    "tags": []
   },
   "outputs": [
    {
     "data": {
      "text/html": [
       "<div>\n",
       "<style scoped>\n",
       "    .dataframe tbody tr th:only-of-type {\n",
       "        vertical-align: middle;\n",
       "    }\n",
       "\n",
       "    .dataframe tbody tr th {\n",
       "        vertical-align: top;\n",
       "    }\n",
       "\n",
       "    .dataframe thead th {\n",
       "        text-align: right;\n",
       "    }\n",
       "</style>\n",
       "<table border=\"1\" class=\"dataframe\">\n",
       "  <thead>\n",
       "    <tr style=\"text-align: right;\">\n",
       "      <th></th>\n",
       "      <th>satisfaction_level</th>\n",
       "      <th>last_evaluation</th>\n",
       "      <th>number_project</th>\n",
       "      <th>average_montly_hours</th>\n",
       "      <th>time_spend_company</th>\n",
       "      <th>Work_accident</th>\n",
       "      <th>left</th>\n",
       "      <th>promotion_last_5years</th>\n",
       "      <th>Department</th>\n",
       "      <th>salary</th>\n",
       "    </tr>\n",
       "  </thead>\n",
       "  <tbody>\n",
       "    <tr>\n",
       "      <th>0</th>\n",
       "      <td>0.38</td>\n",
       "      <td>0.53</td>\n",
       "      <td>2</td>\n",
       "      <td>157</td>\n",
       "      <td>3</td>\n",
       "      <td>0</td>\n",
       "      <td>1</td>\n",
       "      <td>0</td>\n",
       "      <td>sales</td>\n",
       "      <td>low</td>\n",
       "    </tr>\n",
       "    <tr>\n",
       "      <th>1</th>\n",
       "      <td>0.80</td>\n",
       "      <td>0.86</td>\n",
       "      <td>5</td>\n",
       "      <td>262</td>\n",
       "      <td>6</td>\n",
       "      <td>0</td>\n",
       "      <td>1</td>\n",
       "      <td>0</td>\n",
       "      <td>sales</td>\n",
       "      <td>medium</td>\n",
       "    </tr>\n",
       "    <tr>\n",
       "      <th>2</th>\n",
       "      <td>0.11</td>\n",
       "      <td>0.88</td>\n",
       "      <td>7</td>\n",
       "      <td>272</td>\n",
       "      <td>4</td>\n",
       "      <td>0</td>\n",
       "      <td>1</td>\n",
       "      <td>0</td>\n",
       "      <td>sales</td>\n",
       "      <td>medium</td>\n",
       "    </tr>\n",
       "    <tr>\n",
       "      <th>3</th>\n",
       "      <td>0.72</td>\n",
       "      <td>0.87</td>\n",
       "      <td>5</td>\n",
       "      <td>223</td>\n",
       "      <td>5</td>\n",
       "      <td>0</td>\n",
       "      <td>1</td>\n",
       "      <td>0</td>\n",
       "      <td>sales</td>\n",
       "      <td>low</td>\n",
       "    </tr>\n",
       "    <tr>\n",
       "      <th>4</th>\n",
       "      <td>0.37</td>\n",
       "      <td>0.52</td>\n",
       "      <td>2</td>\n",
       "      <td>159</td>\n",
       "      <td>3</td>\n",
       "      <td>0</td>\n",
       "      <td>1</td>\n",
       "      <td>0</td>\n",
       "      <td>sales</td>\n",
       "      <td>low</td>\n",
       "    </tr>\n",
       "  </tbody>\n",
       "</table>\n",
       "</div>"
      ],
      "text/plain": [
       "   satisfaction_level  last_evaluation  number_project  average_montly_hours  \\\n",
       "0                0.38             0.53               2                   157   \n",
       "1                0.80             0.86               5                   262   \n",
       "2                0.11             0.88               7                   272   \n",
       "3                0.72             0.87               5                   223   \n",
       "4                0.37             0.52               2                   159   \n",
       "\n",
       "   time_spend_company  Work_accident  left  promotion_last_5years Department  \\\n",
       "0                   3              0     1                      0      sales   \n",
       "1                   6              0     1                      0      sales   \n",
       "2                   4              0     1                      0      sales   \n",
       "3                   5              0     1                      0      sales   \n",
       "4                   3              0     1                      0      sales   \n",
       "\n",
       "   salary  \n",
       "0     low  \n",
       "1  medium  \n",
       "2  medium  \n",
       "3     low  \n",
       "4     low  "
      ]
     },
     "execution_count": 3,
     "metadata": {},
     "output_type": "execute_result"
    }
   ],
   "source": [
    "#Load The Dataset\n",
    "df = pd.read_csv('/kaggle/input/hr-analytics/HR_comma_sep.csv')\n",
    "df.head()"
   ]
  },
  {
   "cell_type": "code",
   "execution_count": 4,
   "id": "9eb562ff",
   "metadata": {
    "execution": {
     "iopub.execute_input": "2023-06-05T11:12:56.113634Z",
     "iopub.status.busy": "2023-06-05T11:12:56.112881Z",
     "iopub.status.idle": "2023-06-05T11:12:56.161173Z",
     "shell.execute_reply": "2023-06-05T11:12:56.159780Z"
    },
    "papermill": {
     "duration": 0.063638,
     "end_time": "2023-06-05T11:12:56.163590",
     "exception": false,
     "start_time": "2023-06-05T11:12:56.099952",
     "status": "completed"
    },
    "tags": []
   },
   "outputs": [
    {
     "data": {
      "text/html": [
       "<h3>Summary statistics for numerical features</h3><div id=\"numerical_features\" style=\"height:200px; overflow:auto;\"><table border=\"1\" class=\"dataframe\">\n",
       "  <thead>\n",
       "    <tr style=\"text-align: right;\">\n",
       "      <th></th>\n",
       "      <th>count</th>\n",
       "      <th>mean</th>\n",
       "      <th>std</th>\n",
       "      <th>min</th>\n",
       "      <th>25%</th>\n",
       "      <th>50%</th>\n",
       "      <th>75%</th>\n",
       "      <th>max</th>\n",
       "    </tr>\n",
       "  </thead>\n",
       "  <tbody>\n",
       "    <tr>\n",
       "      <th>satisfaction_level</th>\n",
       "      <td>14999.0</td>\n",
       "      <td>0.612834</td>\n",
       "      <td>0.248631</td>\n",
       "      <td>0.09</td>\n",
       "      <td>0.44</td>\n",
       "      <td>0.64</td>\n",
       "      <td>0.82</td>\n",
       "      <td>1.0</td>\n",
       "    </tr>\n",
       "    <tr>\n",
       "      <th>last_evaluation</th>\n",
       "      <td>14999.0</td>\n",
       "      <td>0.716102</td>\n",
       "      <td>0.171169</td>\n",
       "      <td>0.36</td>\n",
       "      <td>0.56</td>\n",
       "      <td>0.72</td>\n",
       "      <td>0.87</td>\n",
       "      <td>1.0</td>\n",
       "    </tr>\n",
       "    <tr>\n",
       "      <th>number_project</th>\n",
       "      <td>14999.0</td>\n",
       "      <td>3.803054</td>\n",
       "      <td>1.232592</td>\n",
       "      <td>2.00</td>\n",
       "      <td>3.00</td>\n",
       "      <td>4.00</td>\n",
       "      <td>5.00</td>\n",
       "      <td>7.0</td>\n",
       "    </tr>\n",
       "    <tr>\n",
       "      <th>average_montly_hours</th>\n",
       "      <td>14999.0</td>\n",
       "      <td>201.050337</td>\n",
       "      <td>49.943099</td>\n",
       "      <td>96.00</td>\n",
       "      <td>156.00</td>\n",
       "      <td>200.00</td>\n",
       "      <td>245.00</td>\n",
       "      <td>310.0</td>\n",
       "    </tr>\n",
       "    <tr>\n",
       "      <th>time_spend_company</th>\n",
       "      <td>14999.0</td>\n",
       "      <td>3.498233</td>\n",
       "      <td>1.460136</td>\n",
       "      <td>2.00</td>\n",
       "      <td>3.00</td>\n",
       "      <td>3.00</td>\n",
       "      <td>4.00</td>\n",
       "      <td>10.0</td>\n",
       "    </tr>\n",
       "    <tr>\n",
       "      <th>Work_accident</th>\n",
       "      <td>14999.0</td>\n",
       "      <td>0.144610</td>\n",
       "      <td>0.351719</td>\n",
       "      <td>0.00</td>\n",
       "      <td>0.00</td>\n",
       "      <td>0.00</td>\n",
       "      <td>0.00</td>\n",
       "      <td>1.0</td>\n",
       "    </tr>\n",
       "    <tr>\n",
       "      <th>left</th>\n",
       "      <td>14999.0</td>\n",
       "      <td>0.238083</td>\n",
       "      <td>0.425924</td>\n",
       "      <td>0.00</td>\n",
       "      <td>0.00</td>\n",
       "      <td>0.00</td>\n",
       "      <td>0.00</td>\n",
       "      <td>1.0</td>\n",
       "    </tr>\n",
       "    <tr>\n",
       "      <th>promotion_last_5years</th>\n",
       "      <td>14999.0</td>\n",
       "      <td>0.021268</td>\n",
       "      <td>0.144281</td>\n",
       "      <td>0.00</td>\n",
       "      <td>0.00</td>\n",
       "      <td>0.00</td>\n",
       "      <td>0.00</td>\n",
       "      <td>1.0</td>\n",
       "    </tr>\n",
       "  </tbody>\n",
       "</table></div>"
      ],
      "text/plain": [
       "<IPython.core.display.HTML object>"
      ]
     },
     "metadata": {},
     "output_type": "display_data"
    }
   ],
   "source": [
    "numerical_features = df.select_dtypes(include=[np.number])\n",
    "summary_stats = numerical_features.describe().T\n",
    "html_numerical = create_scrollable_table(summary_stats, 'numerical_features','Summary statistics for numerical features')\n",
    "\n",
    "display(HTML(html_numerical))"
   ]
  },
  {
   "cell_type": "code",
   "execution_count": 5,
   "id": "dc0cbe00",
   "metadata": {
    "execution": {
     "iopub.execute_input": "2023-06-05T11:12:56.188759Z",
     "iopub.status.busy": "2023-06-05T11:12:56.188352Z",
     "iopub.status.idle": "2023-06-05T11:12:56.223856Z",
     "shell.execute_reply": "2023-06-05T11:12:56.222549Z"
    },
    "papermill": {
     "duration": 0.051305,
     "end_time": "2023-06-05T11:12:56.226679",
     "exception": false,
     "start_time": "2023-06-05T11:12:56.175374",
     "status": "completed"
    },
    "tags": []
   },
   "outputs": [
    {
     "data": {
      "text/html": [
       "<h3>Null values in the dataset</h3><div id=\"null_values\" style=\"height:200px; overflow:auto;\"><table border=\"1\" class=\"dataframe\">\n",
       "  <thead>\n",
       "    <tr style=\"text-align: right;\">\n",
       "      <th></th>\n",
       "      <th>0</th>\n",
       "    </tr>\n",
       "  </thead>\n",
       "  <tbody>\n",
       "    <tr>\n",
       "      <th>satisfaction_level</th>\n",
       "      <td>0</td>\n",
       "    </tr>\n",
       "    <tr>\n",
       "      <th>last_evaluation</th>\n",
       "      <td>0</td>\n",
       "    </tr>\n",
       "    <tr>\n",
       "      <th>number_project</th>\n",
       "      <td>0</td>\n",
       "    </tr>\n",
       "    <tr>\n",
       "      <th>average_montly_hours</th>\n",
       "      <td>0</td>\n",
       "    </tr>\n",
       "    <tr>\n",
       "      <th>time_spend_company</th>\n",
       "      <td>0</td>\n",
       "    </tr>\n",
       "    <tr>\n",
       "      <th>Work_accident</th>\n",
       "      <td>0</td>\n",
       "    </tr>\n",
       "    <tr>\n",
       "      <th>left</th>\n",
       "      <td>0</td>\n",
       "    </tr>\n",
       "    <tr>\n",
       "      <th>promotion_last_5years</th>\n",
       "      <td>0</td>\n",
       "    </tr>\n",
       "    <tr>\n",
       "      <th>Department</th>\n",
       "      <td>0</td>\n",
       "    </tr>\n",
       "    <tr>\n",
       "      <th>salary</th>\n",
       "      <td>0</td>\n",
       "    </tr>\n",
       "  </tbody>\n",
       "</table></div><h3>Percentage of missing values for each feature</h3><div id=\"missing_percentage\" style=\"height:200px; overflow:auto;\"><table border=\"1\" class=\"dataframe\">\n",
       "  <thead>\n",
       "    <tr style=\"text-align: right;\">\n",
       "      <th></th>\n",
       "      <th>0</th>\n",
       "    </tr>\n",
       "  </thead>\n",
       "  <tbody>\n",
       "    <tr>\n",
       "      <th>satisfaction_level</th>\n",
       "      <td>0.0</td>\n",
       "    </tr>\n",
       "    <tr>\n",
       "      <th>last_evaluation</th>\n",
       "      <td>0.0</td>\n",
       "    </tr>\n",
       "    <tr>\n",
       "      <th>number_project</th>\n",
       "      <td>0.0</td>\n",
       "    </tr>\n",
       "    <tr>\n",
       "      <th>average_montly_hours</th>\n",
       "      <td>0.0</td>\n",
       "    </tr>\n",
       "    <tr>\n",
       "      <th>time_spend_company</th>\n",
       "      <td>0.0</td>\n",
       "    </tr>\n",
       "    <tr>\n",
       "      <th>Work_accident</th>\n",
       "      <td>0.0</td>\n",
       "    </tr>\n",
       "    <tr>\n",
       "      <th>left</th>\n",
       "      <td>0.0</td>\n",
       "    </tr>\n",
       "    <tr>\n",
       "      <th>promotion_last_5years</th>\n",
       "      <td>0.0</td>\n",
       "    </tr>\n",
       "    <tr>\n",
       "      <th>Department</th>\n",
       "      <td>0.0</td>\n",
       "    </tr>\n",
       "    <tr>\n",
       "      <th>salary</th>\n",
       "      <td>0.0</td>\n",
       "    </tr>\n",
       "  </tbody>\n",
       "</table></div>"
      ],
      "text/plain": [
       "<IPython.core.display.HTML object>"
      ]
     },
     "metadata": {},
     "output_type": "display_data"
    }
   ],
   "source": [
    "# Null values in the dataset\n",
    "null_values = df.isnull().sum()\n",
    "html_null_values = create_scrollable_table(null_values.to_frame(), 'null_values', 'Null values in the dataset')\n",
    "\n",
    "# Percentage of missing values for each feature\n",
    "missing_percentage = (df.isnull().sum() / len(df)) * 100\n",
    "html_missing_percentage = create_scrollable_table(missing_percentage.to_frame(), 'missing_percentage', 'Percentage of missing values for each feature')\n",
    "\n",
    "display(HTML(html_null_values + html_missing_percentage))"
   ]
  },
  {
   "cell_type": "markdown",
   "id": "bdc01cfd",
   "metadata": {
    "papermill": {
     "duration": 0.012243,
     "end_time": "2023-06-05T11:12:56.250965",
     "exception": false,
     "start_time": "2023-06-05T11:12:56.238722",
     "status": "completed"
    },
    "tags": []
   },
   "source": [
    "* **Based on what we can see, we can conclude that this Dataset does not contaion any missing Data**"
   ]
  },
  {
   "cell_type": "code",
   "execution_count": 6,
   "id": "5471e085",
   "metadata": {
    "execution": {
     "iopub.execute_input": "2023-06-05T11:12:56.279076Z",
     "iopub.status.busy": "2023-06-05T11:12:56.278606Z",
     "iopub.status.idle": "2023-06-05T11:12:56.287436Z",
     "shell.execute_reply": "2023-06-05T11:12:56.286163Z"
    },
    "papermill": {
     "duration": 0.026444,
     "end_time": "2023-06-05T11:12:56.290041",
     "exception": false,
     "start_time": "2023-06-05T11:12:56.263597",
     "status": "completed"
    },
    "tags": []
   },
   "outputs": [
    {
     "data": {
      "text/plain": [
       "Index(['satisfaction_level', 'last_evaluation', 'number_project',\n",
       "       'average_montly_hours', 'time_spend_company', 'Work_accident', 'left',\n",
       "       'promotion_last_5years', 'Department', 'salary'],\n",
       "      dtype='object')"
      ]
     },
     "execution_count": 6,
     "metadata": {},
     "output_type": "execute_result"
    }
   ],
   "source": [
    "df.columns"
   ]
  },
  {
   "cell_type": "markdown",
   "id": "1d9d949b",
   "metadata": {
    "papermill": {
     "duration": 0.012519,
     "end_time": "2023-06-05T11:12:56.316668",
     "exception": false,
     "start_time": "2023-06-05T11:12:56.304149",
     "status": "completed"
    },
    "tags": []
   },
   "source": [
    "## 4. Exploratory Data Analysis (EDA)"
   ]
  },
  {
   "cell_type": "code",
   "execution_count": 7,
   "id": "f6b8f6c3",
   "metadata": {
    "execution": {
     "iopub.execute_input": "2023-06-05T11:12:56.344880Z",
     "iopub.status.busy": "2023-06-05T11:12:56.344409Z",
     "iopub.status.idle": "2023-06-05T11:12:56.907040Z",
     "shell.execute_reply": "2023-06-05T11:12:56.905606Z"
    },
    "papermill": {
     "duration": 0.579797,
     "end_time": "2023-06-05T11:12:56.909980",
     "exception": false,
     "start_time": "2023-06-05T11:12:56.330183",
     "status": "completed"
    },
    "tags": []
   },
   "outputs": [
    {
     "data": {
      "text/plain": [
       "Text(0.5, 1.0, 'Satisfaction Level vs. Employee Retention')"
      ]
     },
     "execution_count": 7,
     "metadata": {},
     "output_type": "execute_result"
    },
    {
     "data": {
      "image/png": "[encoded data removed]",
      "text/plain": [
       "<Figure size 640x480 with 1 Axes>"
      ]
     },
     "metadata": {},
     "output_type": "display_data"
    }
   ],
   "source": [
    "pd.crosstab(df.satisfaction_level,df.left).plot(kind = 'line')\n",
    "plt.title('Satisfaction Level vs. Employee Retention')"
   ]
  },
  {
   "cell_type": "code",
   "execution_count": 8,
   "id": "dbcec518",
   "metadata": {
    "execution": {
     "iopub.execute_input": "2023-06-05T11:12:56.939621Z",
     "iopub.status.busy": "2023-06-05T11:12:56.939199Z",
     "iopub.status.idle": "2023-06-05T11:12:57.267795Z",
     "shell.execute_reply": "2023-06-05T11:12:57.266105Z"
    },
    "papermill": {
     "duration": 0.347041,
     "end_time": "2023-06-05T11:12:57.270802",
     "exception": false,
     "start_time": "2023-06-05T11:12:56.923761",
     "status": "completed"
    },
    "tags": []
   },
   "outputs": [
    {
     "data": {
      "image/png": "[encoded data removed]",
      "text/plain": [
       "<Figure size 640x480 with 1 Axes>"
      ]
     },
     "metadata": {},
     "output_type": "display_data"
    }
   ],
   "source": [
    "new_df = df['salary']\n",
    "rep = new_df.replace(['low', 'medium', 'high'], [1, 2, 3])\n",
    "crosstab_data = pd.crosstab(new_df, df['left'])\n",
    "ax = crosstab_data.plot(kind='bar')\n",
    "\n",
    "ax.legend(['Not left', 'Left'])\n",
    "\n",
    "plt.xlabel('Salary')\n",
    "plt.ylabel('Count')\n",
    "plt.xticks(rotation=45)\n",
    "plt.title('Salary vs Employee Attrition')\n",
    "\n",
    "plt.show()\n"
   ]
  },
  {
   "cell_type": "code",
   "execution_count": 9,
   "id": "86467286",
   "metadata": {
    "execution": {
     "iopub.execute_input": "2023-06-05T11:12:57.300517Z",
     "iopub.status.busy": "2023-06-05T11:12:57.300089Z",
     "iopub.status.idle": "2023-06-05T11:12:57.603978Z",
     "shell.execute_reply": "2023-06-05T11:12:57.603020Z"
    },
    "papermill": {
     "duration": 0.32219,
     "end_time": "2023-06-05T11:12:57.607154",
     "exception": false,
     "start_time": "2023-06-05T11:12:57.284964",
     "status": "completed"
    },
    "tags": []
   },
   "outputs": [
    {
     "data": {
      "image/png": "[encoded data removed]",
      "text/plain": [
       "<Figure size 640x480 with 1 Axes>"
      ]
     },
     "metadata": {},
     "output_type": "display_data"
    }
   ],
   "source": [
    "crosstab_data = pd.crosstab(df.Work_accident, df.left)\n",
    "ax = crosstab_data.plot(kind='bar')\n",
    "\n",
    "\n",
    "ax.legend(['Not Left', 'Left'])\n",
    "\n",
    "\n",
    "plt.xlabel('Work Accident')\n",
    "plt.ylabel('Count')\n",
    "plt.title('Work Accident vs. Employee Attrition')\n",
    "\n",
    "\n",
    "plt.show()\n"
   ]
  },
  {
   "cell_type": "code",
   "execution_count": 10,
   "id": "19dae8d7",
   "metadata": {
    "execution": {
     "iopub.execute_input": "2023-06-05T11:12:57.637968Z",
     "iopub.status.busy": "2023-06-05T11:12:57.636955Z",
     "iopub.status.idle": "2023-06-05T11:12:57.994735Z",
     "shell.execute_reply": "2023-06-05T11:12:57.993418Z"
    },
    "papermill": {
     "duration": 0.376443,
     "end_time": "2023-06-05T11:12:57.997861",
     "exception": false,
     "start_time": "2023-06-05T11:12:57.621418",
     "status": "completed"
    },
    "tags": []
   },
   "outputs": [
    {
     "data": {
      "image/png": "[encoded data removed]",
      "text/plain": [
       "<Figure size 640x480 with 1 Axes>"
      ]
     },
     "metadata": {},
     "output_type": "display_data"
    }
   ],
   "source": [
    "crosstab_data = pd.crosstab(df.time_spend_company, df.left)\n",
    "ax = crosstab_data.plot(kind = 'bar')\n",
    "\n",
    "ax.legend(['Not Left','Left'])\n",
    "\n",
    "plt.title('Time Spent in Company vs Employee Attrition')\n",
    "plt.xlabel('Time Spent in Company')\n",
    "plt.ylabel('Count')\n",
    "\n",
    "plt.show()"
   ]
  },
  {
   "cell_type": "markdown",
   "id": "a13c36f9",
   "metadata": {
    "papermill": {
     "duration": 0.014704,
     "end_time": "2023-06-05T11:12:58.028228",
     "exception": false,
     "start_time": "2023-06-05T11:12:58.013524",
     "status": "completed"
    },
    "tags": []
   },
   "source": [
    "* **We can conclude that those who spent the most time at work didn't leave**"
   ]
  },
  {
   "cell_type": "code",
   "execution_count": 11,
   "id": "5a4b923d",
   "metadata": {
    "execution": {
     "iopub.execute_input": "2023-06-05T11:12:58.060299Z",
     "iopub.status.busy": "2023-06-05T11:12:58.059867Z",
     "iopub.status.idle": "2023-06-05T11:12:58.462445Z",
     "shell.execute_reply": "2023-06-05T11:12:58.461211Z"
    },
    "papermill": {
     "duration": 0.422601,
     "end_time": "2023-06-05T11:12:58.465321",
     "exception": false,
     "start_time": "2023-06-05T11:12:58.042720",
     "status": "completed"
    },
    "tags": []
   },
   "outputs": [
    {
     "data": {
      "image/png": "[encoded data removed]",
      "text/plain": [
       "<Figure size 640x480 with 1 Axes>"
      ]
     },
     "metadata": {},
     "output_type": "display_data"
    }
   ],
   "source": [
    "crosstab_data = pd.crosstab(df.Department, df.left)\n",
    "ax = crosstab_data.plot(kind='bar')\n",
    "\n",
    "ax.legend(['Not Left', 'Left'])\n",
    "\n",
    "plt.title('Department vs Employee Atrrition')\n",
    "plt.xticks(rotation =45)\n",
    "plt.xlabel('Department')\n",
    "plt.ylabel('Count')\n",
    "\n",
    "plt.show()"
   ]
  },
  {
   "cell_type": "markdown",
   "id": "93b4f026",
   "metadata": {
    "papermill": {
     "duration": 0.014766,
     "end_time": "2023-06-05T11:12:58.495357",
     "exception": false,
     "start_time": "2023-06-05T11:12:58.480591",
     "status": "completed"
    },
    "tags": []
   },
   "source": [
    "* **We can conclude that most people who left their job were in the Sales Department**"
   ]
  },
  {
   "cell_type": "code",
   "execution_count": 12,
   "id": "b877814b",
   "metadata": {
    "execution": {
     "iopub.execute_input": "2023-06-05T11:12:58.528275Z",
     "iopub.status.busy": "2023-06-05T11:12:58.527147Z",
     "iopub.status.idle": "2023-06-05T11:12:59.243434Z",
     "shell.execute_reply": "2023-06-05T11:12:59.241952Z"
    },
    "papermill": {
     "duration": 0.735438,
     "end_time": "2023-06-05T11:12:59.246012",
     "exception": false,
     "start_time": "2023-06-05T11:12:58.510574",
     "status": "completed"
    },
    "tags": []
   },
   "outputs": [
    {
     "name": "stderr",
     "output_type": "stream",
     "text": [
      "/tmp/ipykernel_20/1307701243.py:1: FutureWarning: The default value of numeric_only in DataFrame.corr is deprecated. In a future version, it will default to False. Select only valid columns or specify the value of numeric_only to silence this warning.\n",
      "  data_matrix = df.corr()\n"
     ]
    },
    {
     "data": {
      "image/png": "[encoded data removed]",
      "text/plain": [
       "<Figure size 640x480 with 2 Axes>"
      ]
     },
     "metadata": {},
     "output_type": "display_data"
    }
   ],
   "source": [
    "data_matrix = df.corr()  \n",
    "\n",
    "\n",
    "sns.heatmap(data_matrix, cmap='coolwarm', annot=True)\n",
    "\n",
    "\n",
    "plt.xticks(rotation = 75)\n",
    "plt.yticks(rotation = 0)\n",
    "plt.title('Heatmap of The HR DataSet')\n",
    "\n",
    "\n",
    "plt.tight_layout()\n",
    "\n",
    "\n",
    "plt.show()\n"
   ]
  },
  {
   "cell_type": "markdown",
   "id": "b0aa6d5f",
   "metadata": {
    "papermill": {
     "duration": 0.016895,
     "end_time": "2023-06-05T11:12:59.280948",
     "exception": false,
     "start_time": "2023-06-05T11:12:59.264053",
     "status": "completed"
    },
    "tags": []
   },
   "source": [
    "## 5. Feature Engineering"
   ]
  },
  {
   "cell_type": "markdown",
   "id": "f9561d0f",
   "metadata": {
    "papermill": {
     "duration": 0.016353,
     "end_time": "2023-06-05T11:12:59.314745",
     "exception": false,
     "start_time": "2023-06-05T11:12:59.298392",
     "status": "completed"
    },
    "tags": []
   },
   "source": [
    "* From the dataset we can conclude that the following are the independent variables:\n",
    "\n",
    "1. **Satisfaction level**\n",
    "2. **Average montly hours**\n",
    "3. **Time spend company**\n",
    "4. **Promotion last 5years**\n",
    "5. **Salary**"
   ]
  },
  {
   "cell_type": "code",
   "execution_count": 13,
   "id": "33b9d60c",
   "metadata": {
    "execution": {
     "iopub.execute_input": "2023-06-05T11:12:59.351699Z",
     "iopub.status.busy": "2023-06-05T11:12:59.351098Z",
     "iopub.status.idle": "2023-06-05T11:12:59.366676Z",
     "shell.execute_reply": "2023-06-05T11:12:59.365241Z"
    },
    "papermill": {
     "duration": 0.03754,
     "end_time": "2023-06-05T11:12:59.369617",
     "exception": false,
     "start_time": "2023-06-05T11:12:59.332077",
     "status": "completed"
    },
    "tags": []
   },
   "outputs": [
    {
     "data": {
      "text/html": [
       "<div>\n",
       "<style scoped>\n",
       "    .dataframe tbody tr th:only-of-type {\n",
       "        vertical-align: middle;\n",
       "    }\n",
       "\n",
       "    .dataframe tbody tr th {\n",
       "        vertical-align: top;\n",
       "    }\n",
       "\n",
       "    .dataframe thead th {\n",
       "        text-align: right;\n",
       "    }\n",
       "</style>\n",
       "<table border=\"1\" class=\"dataframe\">\n",
       "  <thead>\n",
       "    <tr style=\"text-align: right;\">\n",
       "      <th></th>\n",
       "      <th>satisfaction_level</th>\n",
       "      <th>average_montly_hours</th>\n",
       "      <th>time_spend_company</th>\n",
       "      <th>promotion_last_5years</th>\n",
       "      <th>salary</th>\n",
       "    </tr>\n",
       "  </thead>\n",
       "  <tbody>\n",
       "    <tr>\n",
       "      <th>0</th>\n",
       "      <td>0.38</td>\n",
       "      <td>157</td>\n",
       "      <td>3</td>\n",
       "      <td>0</td>\n",
       "      <td>low</td>\n",
       "    </tr>\n",
       "    <tr>\n",
       "      <th>1</th>\n",
       "      <td>0.80</td>\n",
       "      <td>262</td>\n",
       "      <td>6</td>\n",
       "      <td>0</td>\n",
       "      <td>medium</td>\n",
       "    </tr>\n",
       "    <tr>\n",
       "      <th>2</th>\n",
       "      <td>0.11</td>\n",
       "      <td>272</td>\n",
       "      <td>4</td>\n",
       "      <td>0</td>\n",
       "      <td>medium</td>\n",
       "    </tr>\n",
       "    <tr>\n",
       "      <th>3</th>\n",
       "      <td>0.72</td>\n",
       "      <td>223</td>\n",
       "      <td>5</td>\n",
       "      <td>0</td>\n",
       "      <td>low</td>\n",
       "    </tr>\n",
       "    <tr>\n",
       "      <th>4</th>\n",
       "      <td>0.37</td>\n",
       "      <td>159</td>\n",
       "      <td>3</td>\n",
       "      <td>0</td>\n",
       "      <td>low</td>\n",
       "    </tr>\n",
       "  </tbody>\n",
       "</table>\n",
       "</div>"
      ],
      "text/plain": [
       "   satisfaction_level  average_montly_hours  time_spend_company  \\\n",
       "0                0.38                   157                   3   \n",
       "1                0.80                   262                   6   \n",
       "2                0.11                   272                   4   \n",
       "3                0.72                   223                   5   \n",
       "4                0.37                   159                   3   \n",
       "\n",
       "   promotion_last_5years  salary  \n",
       "0                      0     low  \n",
       "1                      0  medium  \n",
       "2                      0  medium  \n",
       "3                      0     low  \n",
       "4                      0     low  "
      ]
     },
     "execution_count": 13,
     "metadata": {},
     "output_type": "execute_result"
    }
   ],
   "source": [
    "subdf = df[['satisfaction_level','average_montly_hours','time_spend_company','promotion_last_5years','salary']]\n",
    "subdf.head()"
   ]
  },
  {
   "cell_type": "markdown",
   "id": "650c5909",
   "metadata": {
    "papermill": {
     "duration": 0.016683,
     "end_time": "2023-06-05T11:12:59.405054",
     "exception": false,
     "start_time": "2023-06-05T11:12:59.388371",
     "status": "completed"
    },
    "tags": []
   },
   "source": [
    "* Since salaries include words such as high, low and medium will use dummy variables for it."
   ]
  },
  {
   "cell_type": "code",
   "execution_count": 14,
   "id": "d95f7d6a",
   "metadata": {
    "execution": {
     "iopub.execute_input": "2023-06-05T11:12:59.441175Z",
     "iopub.status.busy": "2023-06-05T11:12:59.440458Z",
     "iopub.status.idle": "2023-06-05T11:12:59.459867Z",
     "shell.execute_reply": "2023-06-05T11:12:59.458504Z"
    },
    "papermill": {
     "duration": 0.0405,
     "end_time": "2023-06-05T11:12:59.462504",
     "exception": false,
     "start_time": "2023-06-05T11:12:59.422004",
     "status": "completed"
    },
    "tags": []
   },
   "outputs": [
    {
     "data": {
      "text/html": [
       "<div>\n",
       "<style scoped>\n",
       "    .dataframe tbody tr th:only-of-type {\n",
       "        vertical-align: middle;\n",
       "    }\n",
       "\n",
       "    .dataframe tbody tr th {\n",
       "        vertical-align: top;\n",
       "    }\n",
       "\n",
       "    .dataframe thead th {\n",
       "        text-align: right;\n",
       "    }\n",
       "</style>\n",
       "<table border=\"1\" class=\"dataframe\">\n",
       "  <thead>\n",
       "    <tr style=\"text-align: right;\">\n",
       "      <th></th>\n",
       "      <th>satisfaction_level</th>\n",
       "      <th>average_montly_hours</th>\n",
       "      <th>time_spend_company</th>\n",
       "      <th>promotion_last_5years</th>\n",
       "      <th>salary</th>\n",
       "      <th>salary_high</th>\n",
       "      <th>salary_low</th>\n",
       "      <th>salary_medium</th>\n",
       "    </tr>\n",
       "  </thead>\n",
       "  <tbody>\n",
       "    <tr>\n",
       "      <th>0</th>\n",
       "      <td>0.38</td>\n",
       "      <td>157</td>\n",
       "      <td>3</td>\n",
       "      <td>0</td>\n",
       "      <td>low</td>\n",
       "      <td>0</td>\n",
       "      <td>1</td>\n",
       "      <td>0</td>\n",
       "    </tr>\n",
       "    <tr>\n",
       "      <th>1</th>\n",
       "      <td>0.80</td>\n",
       "      <td>262</td>\n",
       "      <td>6</td>\n",
       "      <td>0</td>\n",
       "      <td>medium</td>\n",
       "      <td>0</td>\n",
       "      <td>0</td>\n",
       "      <td>1</td>\n",
       "    </tr>\n",
       "    <tr>\n",
       "      <th>2</th>\n",
       "      <td>0.11</td>\n",
       "      <td>272</td>\n",
       "      <td>4</td>\n",
       "      <td>0</td>\n",
       "      <td>medium</td>\n",
       "      <td>0</td>\n",
       "      <td>0</td>\n",
       "      <td>1</td>\n",
       "    </tr>\n",
       "    <tr>\n",
       "      <th>3</th>\n",
       "      <td>0.72</td>\n",
       "      <td>223</td>\n",
       "      <td>5</td>\n",
       "      <td>0</td>\n",
       "      <td>low</td>\n",
       "      <td>0</td>\n",
       "      <td>1</td>\n",
       "      <td>0</td>\n",
       "    </tr>\n",
       "    <tr>\n",
       "      <th>4</th>\n",
       "      <td>0.37</td>\n",
       "      <td>159</td>\n",
       "      <td>3</td>\n",
       "      <td>0</td>\n",
       "      <td>low</td>\n",
       "      <td>0</td>\n",
       "      <td>1</td>\n",
       "      <td>0</td>\n",
       "    </tr>\n",
       "  </tbody>\n",
       "</table>\n",
       "</div>"
      ],
      "text/plain": [
       "   satisfaction_level  average_montly_hours  time_spend_company  \\\n",
       "0                0.38                   157                   3   \n",
       "1                0.80                   262                   6   \n",
       "2                0.11                   272                   4   \n",
       "3                0.72                   223                   5   \n",
       "4                0.37                   159                   3   \n",
       "\n",
       "   promotion_last_5years  salary  salary_high  salary_low  salary_medium  \n",
       "0                      0     low            0           1              0  \n",
       "1                      0  medium            0           0              1  \n",
       "2                      0  medium            0           0              1  \n",
       "3                      0     low            0           1              0  \n",
       "4                      0     low            0           1              0  "
      ]
     },
     "execution_count": 14,
     "metadata": {},
     "output_type": "execute_result"
    }
   ],
   "source": [
    "salary_dummies = pd.get_dummies(subdf.salary, prefix=\"salary\" )\n",
    "df_with_dummies = pd.concat([subdf,salary_dummies], axis='columns')\n",
    "df_with_dummies.head()"
   ]
  },
  {
   "cell_type": "code",
   "execution_count": 15,
   "id": "41e4aa1c",
   "metadata": {
    "execution": {
     "iopub.execute_input": "2023-06-05T11:12:59.499852Z",
     "iopub.status.busy": "2023-06-05T11:12:59.499062Z",
     "iopub.status.idle": "2023-06-05T11:12:59.513689Z",
     "shell.execute_reply": "2023-06-05T11:12:59.512598Z"
    },
    "papermill": {
     "duration": 0.036247,
     "end_time": "2023-06-05T11:12:59.516189",
     "exception": false,
     "start_time": "2023-06-05T11:12:59.479942",
     "status": "completed"
    },
    "tags": []
   },
   "outputs": [
    {
     "data": {
      "text/html": [
       "<div>\n",
       "<style scoped>\n",
       "    .dataframe tbody tr th:only-of-type {\n",
       "        vertical-align: middle;\n",
       "    }\n",
       "\n",
       "    .dataframe tbody tr th {\n",
       "        vertical-align: top;\n",
       "    }\n",
       "\n",
       "    .dataframe thead th {\n",
       "        text-align: right;\n",
       "    }\n",
       "</style>\n",
       "<table border=\"1\" class=\"dataframe\">\n",
       "  <thead>\n",
       "    <tr style=\"text-align: right;\">\n",
       "      <th></th>\n",
       "      <th>satisfaction_level</th>\n",
       "      <th>average_montly_hours</th>\n",
       "      <th>time_spend_company</th>\n",
       "      <th>promotion_last_5years</th>\n",
       "      <th>salary_high</th>\n",
       "      <th>salary_low</th>\n",
       "      <th>salary_medium</th>\n",
       "    </tr>\n",
       "  </thead>\n",
       "  <tbody>\n",
       "    <tr>\n",
       "      <th>0</th>\n",
       "      <td>0.38</td>\n",
       "      <td>157</td>\n",
       "      <td>3</td>\n",
       "      <td>0</td>\n",
       "      <td>0</td>\n",
       "      <td>1</td>\n",
       "      <td>0</td>\n",
       "    </tr>\n",
       "    <tr>\n",
       "      <th>1</th>\n",
       "      <td>0.80</td>\n",
       "      <td>262</td>\n",
       "      <td>6</td>\n",
       "      <td>0</td>\n",
       "      <td>0</td>\n",
       "      <td>0</td>\n",
       "      <td>1</td>\n",
       "    </tr>\n",
       "    <tr>\n",
       "      <th>2</th>\n",
       "      <td>0.11</td>\n",
       "      <td>272</td>\n",
       "      <td>4</td>\n",
       "      <td>0</td>\n",
       "      <td>0</td>\n",
       "      <td>0</td>\n",
       "      <td>1</td>\n",
       "    </tr>\n",
       "    <tr>\n",
       "      <th>3</th>\n",
       "      <td>0.72</td>\n",
       "      <td>223</td>\n",
       "      <td>5</td>\n",
       "      <td>0</td>\n",
       "      <td>0</td>\n",
       "      <td>1</td>\n",
       "      <td>0</td>\n",
       "    </tr>\n",
       "    <tr>\n",
       "      <th>4</th>\n",
       "      <td>0.37</td>\n",
       "      <td>159</td>\n",
       "      <td>3</td>\n",
       "      <td>0</td>\n",
       "      <td>0</td>\n",
       "      <td>1</td>\n",
       "      <td>0</td>\n",
       "    </tr>\n",
       "  </tbody>\n",
       "</table>\n",
       "</div>"
      ],
      "text/plain": [
       "   satisfaction_level  average_montly_hours  time_spend_company  \\\n",
       "0                0.38                   157                   3   \n",
       "1                0.80                   262                   6   \n",
       "2                0.11                   272                   4   \n",
       "3                0.72                   223                   5   \n",
       "4                0.37                   159                   3   \n",
       "\n",
       "   promotion_last_5years  salary_high  salary_low  salary_medium  \n",
       "0                      0            0           1              0  \n",
       "1                      0            0           0              1  \n",
       "2                      0            0           0              1  \n",
       "3                      0            0           1              0  \n",
       "4                      0            0           1              0  "
      ]
     },
     "execution_count": 15,
     "metadata": {},
     "output_type": "execute_result"
    }
   ],
   "source": [
    "df_with_dummies.drop('salary',axis='columns',inplace=True)\n",
    "df_with_dummies.head()"
   ]
  },
  {
   "cell_type": "code",
   "execution_count": 16,
   "id": "7dee96c6",
   "metadata": {
    "execution": {
     "iopub.execute_input": "2023-06-05T11:12:59.554179Z",
     "iopub.status.busy": "2023-06-05T11:12:59.553435Z",
     "iopub.status.idle": "2023-06-05T11:12:59.565963Z",
     "shell.execute_reply": "2023-06-05T11:12:59.564764Z"
    },
    "papermill": {
     "duration": 0.034232,
     "end_time": "2023-06-05T11:12:59.568323",
     "exception": false,
     "start_time": "2023-06-05T11:12:59.534091",
     "status": "completed"
    },
    "tags": []
   },
   "outputs": [
    {
     "data": {
      "text/html": [
       "<div>\n",
       "<style scoped>\n",
       "    .dataframe tbody tr th:only-of-type {\n",
       "        vertical-align: middle;\n",
       "    }\n",
       "\n",
       "    .dataframe tbody tr th {\n",
       "        vertical-align: top;\n",
       "    }\n",
       "\n",
       "    .dataframe thead th {\n",
       "        text-align: right;\n",
       "    }\n",
       "</style>\n",
       "<table border=\"1\" class=\"dataframe\">\n",
       "  <thead>\n",
       "    <tr style=\"text-align: right;\">\n",
       "      <th></th>\n",
       "      <th>satisfaction_level</th>\n",
       "      <th>average_montly_hours</th>\n",
       "      <th>time_spend_company</th>\n",
       "      <th>promotion_last_5years</th>\n",
       "      <th>salary_high</th>\n",
       "      <th>salary_low</th>\n",
       "      <th>salary_medium</th>\n",
       "    </tr>\n",
       "  </thead>\n",
       "  <tbody>\n",
       "    <tr>\n",
       "      <th>0</th>\n",
       "      <td>0.38</td>\n",
       "      <td>157</td>\n",
       "      <td>3</td>\n",
       "      <td>0</td>\n",
       "      <td>0</td>\n",
       "      <td>1</td>\n",
       "      <td>0</td>\n",
       "    </tr>\n",
       "    <tr>\n",
       "      <th>1</th>\n",
       "      <td>0.80</td>\n",
       "      <td>262</td>\n",
       "      <td>6</td>\n",
       "      <td>0</td>\n",
       "      <td>0</td>\n",
       "      <td>0</td>\n",
       "      <td>1</td>\n",
       "    </tr>\n",
       "    <tr>\n",
       "      <th>2</th>\n",
       "      <td>0.11</td>\n",
       "      <td>272</td>\n",
       "      <td>4</td>\n",
       "      <td>0</td>\n",
       "      <td>0</td>\n",
       "      <td>0</td>\n",
       "      <td>1</td>\n",
       "    </tr>\n",
       "    <tr>\n",
       "      <th>3</th>\n",
       "      <td>0.72</td>\n",
       "      <td>223</td>\n",
       "      <td>5</td>\n",
       "      <td>0</td>\n",
       "      <td>0</td>\n",
       "      <td>1</td>\n",
       "      <td>0</td>\n",
       "    </tr>\n",
       "    <tr>\n",
       "      <th>4</th>\n",
       "      <td>0.37</td>\n",
       "      <td>159</td>\n",
       "      <td>3</td>\n",
       "      <td>0</td>\n",
       "      <td>0</td>\n",
       "      <td>1</td>\n",
       "      <td>0</td>\n",
       "    </tr>\n",
       "  </tbody>\n",
       "</table>\n",
       "</div>"
      ],
      "text/plain": [
       "   satisfaction_level  average_montly_hours  time_spend_company  \\\n",
       "0                0.38                   157                   3   \n",
       "1                0.80                   262                   6   \n",
       "2                0.11                   272                   4   \n",
       "3                0.72                   223                   5   \n",
       "4                0.37                   159                   3   \n",
       "\n",
       "   promotion_last_5years  salary_high  salary_low  salary_medium  \n",
       "0                      0            0           1              0  \n",
       "1                      0            0           0              1  \n",
       "2                      0            0           0              1  \n",
       "3                      0            0           1              0  \n",
       "4                      0            0           1              0  "
      ]
     },
     "execution_count": 16,
     "metadata": {},
     "output_type": "execute_result"
    }
   ],
   "source": [
    "X = df_with_dummies\n",
    "X.head()"
   ]
  },
  {
   "cell_type": "code",
   "execution_count": 17,
   "id": "81191d31",
   "metadata": {
    "execution": {
     "iopub.execute_input": "2023-06-05T11:12:59.607130Z",
     "iopub.status.busy": "2023-06-05T11:12:59.606336Z",
     "iopub.status.idle": "2023-06-05T11:12:59.613983Z",
     "shell.execute_reply": "2023-06-05T11:12:59.612832Z"
    },
    "papermill": {
     "duration": 0.029755,
     "end_time": "2023-06-05T11:12:59.616392",
     "exception": false,
     "start_time": "2023-06-05T11:12:59.586637",
     "status": "completed"
    },
    "tags": []
   },
   "outputs": [
    {
     "data": {
      "text/plain": [
       "0    1\n",
       "1    1\n",
       "2    1\n",
       "3    1\n",
       "4    1\n",
       "Name: left, dtype: int64"
      ]
     },
     "execution_count": 17,
     "metadata": {},
     "output_type": "execute_result"
    }
   ],
   "source": [
    "y = df.left\n",
    "y.head()"
   ]
  },
  {
   "cell_type": "markdown",
   "id": "a36aaeb6",
   "metadata": {
    "papermill": {
     "duration": 0.017614,
     "end_time": "2023-06-05T11:12:59.651950",
     "exception": false,
     "start_time": "2023-06-05T11:12:59.634336",
     "status": "completed"
    },
    "tags": []
   },
   "source": [
    "## 6. Model Building"
   ]
  },
  {
   "cell_type": "markdown",
   "id": "0fe1ddb9",
   "metadata": {
    "papermill": {
     "duration": 0.017448,
     "end_time": "2023-06-05T11:12:59.687988",
     "exception": false,
     "start_time": "2023-06-05T11:12:59.670540",
     "status": "completed"
    },
    "tags": []
   },
   "source": [
    "We are going to use Train Test Split Model, because our dataset does not contain a train file. So using Train test split will enable us to test and train the data set"
   ]
  },
  {
   "cell_type": "code",
   "execution_count": 18,
   "id": "dda570ee",
   "metadata": {
    "execution": {
     "iopub.execute_input": "2023-06-05T11:12:59.727101Z",
     "iopub.status.busy": "2023-06-05T11:12:59.726232Z",
     "iopub.status.idle": "2023-06-05T11:12:59.735073Z",
     "shell.execute_reply": "2023-06-05T11:12:59.733917Z"
    },
    "papermill": {
     "duration": 0.031746,
     "end_time": "2023-06-05T11:12:59.737777",
     "exception": false,
     "start_time": "2023-06-05T11:12:59.706031",
     "status": "completed"
    },
    "tags": []
   },
   "outputs": [],
   "source": [
    "X_train, X_test, y_train, y_test = train_test_split(X,y , train_size= 0.4)"
   ]
  },
  {
   "cell_type": "code",
   "execution_count": 19,
   "id": "316023dc",
   "metadata": {
    "execution": {
     "iopub.execute_input": "2023-06-05T11:12:59.776805Z",
     "iopub.status.busy": "2023-06-05T11:12:59.775873Z",
     "iopub.status.idle": "2023-06-05T11:12:59.781144Z",
     "shell.execute_reply": "2023-06-05T11:12:59.780246Z"
    },
    "papermill": {
     "duration": 0.027417,
     "end_time": "2023-06-05T11:12:59.783444",
     "exception": false,
     "start_time": "2023-06-05T11:12:59.756027",
     "status": "completed"
    },
    "tags": []
   },
   "outputs": [],
   "source": [
    "model = LogisticRegression()"
   ]
  },
  {
   "cell_type": "code",
   "execution_count": 20,
   "id": "e6d06547",
   "metadata": {
    "execution": {
     "iopub.execute_input": "2023-06-05T11:12:59.821625Z",
     "iopub.status.busy": "2023-06-05T11:12:59.820868Z",
     "iopub.status.idle": "2023-06-05T11:12:59.968043Z",
     "shell.execute_reply": "2023-06-05T11:12:59.966861Z"
    },
    "papermill": {
     "duration": 0.171729,
     "end_time": "2023-06-05T11:12:59.973197",
     "exception": false,
     "start_time": "2023-06-05T11:12:59.801468",
     "status": "completed"
    },
    "tags": []
   },
   "outputs": [
    {
     "name": "stderr",
     "output_type": "stream",
     "text": [
      "/opt/conda/lib/python3.10/site-packages/sklearn/linear_model/_logistic.py:458: ConvergenceWarning: lbfgs failed to converge (status=1):\n",
      "STOP: TOTAL NO. of ITERATIONS REACHED LIMIT.\n",
      "\n",
      "Increase the number of iterations (max_iter) or scale the data as shown in:\n",
      "    https://scikit-learn.org/stable/modules/preprocessing.html\n",
      "Please also refer to the documentation for alternative solver options:\n",
      "    https://scikit-learn.org/stable/modules/linear_model.html#logistic-regression\n",
      "  n_iter_i = _check_optimize_result(\n"
     ]
    },
    {
     "data": {
      "text/html": [
       "<style>#sk-container-id-1 {color: black;background-color: white;}#sk-container-id-1 pre{padding: 0;}#sk-container-id-1 div.sk-toggleable {background-color: white;}#sk-container-id-1 label.sk-toggleable__label {cursor: pointer;display: block;width: 100%;margin-bottom: 0;padding: 0.3em;box-sizing: border-box;text-align: center;}#sk-container-id-1 label.sk-toggleable__label-arrow:before {content: \"▸\";float: left;margin-right: 0.25em;color: #696969;}#sk-container-id-1 label.sk-toggleable__label-arrow:hover:before {color: black;}#sk-container-id-1 div.sk-estimator:hover label.sk-toggleable__label-arrow:before {color: black;}#sk-container-id-1 div.sk-toggleable__content {max-height: 0;max-width: 0;overflow: hidden;text-align: left;background-color: #f0f8ff;}#sk-container-id-1 div.sk-toggleable__content pre {margin: 0.2em;color: black;border-radius: 0.25em;background-color: #f0f8ff;}#sk-container-id-1 input.sk-toggleable__control:checked~div.sk-toggleable__content {max-height: 200px;max-width: 100%;overflow: auto;}#sk-container-id-1 input.sk-toggleable__control:checked~label.sk-toggleable__label-arrow:before {content: \"▾\";}#sk-container-id-1 div.sk-estimator input.sk-toggleable__control:checked~label.sk-toggleable__label {background-color: #d4ebff;}#sk-container-id-1 div.sk-label input.sk-toggleable__control:checked~label.sk-toggleable__label {background-color: #d4ebff;}#sk-container-id-1 input.sk-hidden--visually {border: 0;clip: rect(1px 1px 1px 1px);clip: rect(1px, 1px, 1px, 1px);height: 1px;margin: -1px;overflow: hidden;padding: 0;position: absolute;width: 1px;}#sk-container-id-1 div.sk-estimator {font-family: monospace;background-color: #f0f8ff;border: 1px dotted black;border-radius: 0.25em;box-sizing: border-box;margin-bottom: 0.5em;}#sk-container-id-1 div.sk-estimator:hover {background-color: #d4ebff;}#sk-container-id-1 div.sk-parallel-item::after {content: \"\";width: 100%;border-bottom: 1px solid gray;flex-grow: 1;}#sk-container-id-1 div.sk-label:hover label.sk-toggleable__label {background-color: #d4ebff;}#sk-container-id-1 div.sk-serial::before {content: \"\";position: absolute;border-left: 1px solid gray;box-sizing: border-box;top: 0;bottom: 0;left: 50%;z-index: 0;}#sk-container-id-1 div.sk-serial {display: flex;flex-direction: column;align-items: center;background-color: white;padding-right: 0.2em;padding-left: 0.2em;position: relative;}#sk-container-id-1 div.sk-item {position: relative;z-index: 1;}#sk-container-id-1 div.sk-parallel {display: flex;align-items: stretch;justify-content: center;background-color: white;position: relative;}#sk-container-id-1 div.sk-item::before, #sk-container-id-1 div.sk-parallel-item::before {content: \"\";position: absolute;border-left: 1px solid gray;box-sizing: border-box;top: 0;bottom: 0;left: 50%;z-index: -1;}#sk-container-id-1 div.sk-parallel-item {display: flex;flex-direction: column;z-index: 1;position: relative;background-color: white;}#sk-container-id-1 div.sk-parallel-item:first-child::after {align-self: flex-end;width: 50%;}#sk-container-id-1 div.sk-parallel-item:last-child::after {align-self: flex-start;width: 50%;}#sk-container-id-1 div.sk-parallel-item:only-child::after {width: 0;}#sk-container-id-1 div.sk-dashed-wrapped {border: 1px dashed gray;margin: 0 0.4em 0.5em 0.4em;box-sizing: border-box;padding-bottom: 0.4em;background-color: white;}#sk-container-id-1 div.sk-label label {font-family: monospace;font-weight: bold;display: inline-block;line-height: 1.2em;}#sk-container-id-1 div.sk-label-container {text-align: center;}#sk-container-id-1 div.sk-container {/* jupyter's `normalize.less` sets `[hidden] { display: none; }` but bootstrap.min.css set `[hidden] { display: none !important; }` so we also need the `!important` here to be able to override the default hidden behavior on the sphinx rendered scikit-learn.org. See: https://github.com/scikit-learn/scikit-learn/issues/21755 */display: inline-block !important;position: relative;}#sk-container-id-1 div.sk-text-repr-fallback {display: none;}</style><div id=\"sk-container-id-1\" class=\"sk-top-container\"><div class=\"sk-text-repr-fallback\"><pre>LogisticRegression()</pre><b>In a Jupyter environment, please rerun this cell to show the HTML representation or trust the notebook. <br />On GitHub, the HTML representation is unable to render, please try loading this page with nbviewer.org.</b></div><div class=\"sk-container\" hidden><div class=\"sk-item\"><div class=\"sk-estimator sk-toggleable\"><input class=\"sk-toggleable__control sk-hidden--visually\" id=\"sk-estimator-id-1\" type=\"checkbox\" checked><label for=\"sk-estimator-id-1\" class=\"sk-toggleable__label sk-toggleable__label-arrow\">LogisticRegression</label><div class=\"sk-toggleable__content\"><pre>LogisticRegression()</pre></div></div></div></div></div>"
      ],
      "text/plain": [
       "LogisticRegression()"
      ]
     },
     "execution_count": 20,
     "metadata": {},
     "output_type": "execute_result"
    }
   ],
   "source": [
    "model.fit(X_train,y_train)"
   ]
  },
  {
   "cell_type": "code",
   "execution_count": 21,
   "id": "0fae104a",
   "metadata": {
    "execution": {
     "iopub.execute_input": "2023-06-05T11:13:00.056142Z",
     "iopub.status.busy": "2023-06-05T11:13:00.054341Z",
     "iopub.status.idle": "2023-06-05T11:13:00.069645Z",
     "shell.execute_reply": "2023-06-05T11:13:00.068222Z"
    },
    "papermill": {
     "duration": 0.060418,
     "end_time": "2023-06-05T11:13:00.073278",
     "exception": false,
     "start_time": "2023-06-05T11:13:00.012860",
     "status": "completed"
    },
    "tags": []
   },
   "outputs": [
    {
     "data": {
      "text/plain": [
       "array([0, 0, 1, ..., 0, 0, 0])"
      ]
     },
     "execution_count": 21,
     "metadata": {},
     "output_type": "execute_result"
    }
   ],
   "source": [
    "model.predict(X_test)"
   ]
  },
  {
   "cell_type": "markdown",
   "id": "f8b5e181",
   "metadata": {
    "papermill": {
     "duration": 0.040012,
     "end_time": "2023-06-05T11:13:00.153727",
     "exception": false,
     "start_time": "2023-06-05T11:13:00.113715",
     "status": "completed"
    },
    "tags": []
   },
   "source": [
    "## 7. Model Evaluation"
   ]
  },
  {
   "cell_type": "markdown",
   "id": "1b0b128c",
   "metadata": {
    "papermill": {
     "duration": 0.018691,
     "end_time": "2023-06-05T11:13:00.207613",
     "exception": false,
     "start_time": "2023-06-05T11:13:00.188922",
     "status": "completed"
    },
    "tags": []
   },
   "source": [
    "* **Accuracy Of The Model**"
   ]
  },
  {
   "cell_type": "code",
   "execution_count": 22,
   "id": "26dad24d",
   "metadata": {
    "execution": {
     "iopub.execute_input": "2023-06-05T11:13:00.248018Z",
     "iopub.status.busy": "2023-06-05T11:13:00.247587Z",
     "iopub.status.idle": "2023-06-05T11:13:00.262513Z",
     "shell.execute_reply": "2023-06-05T11:13:00.261262Z"
    },
    "papermill": {
     "duration": 0.039329,
     "end_time": "2023-06-05T11:13:00.266378",
     "exception": false,
     "start_time": "2023-06-05T11:13:00.227049",
     "status": "completed"
    },
    "tags": []
   },
   "outputs": [
    {
     "data": {
      "text/plain": [
       "0.7692222222222223"
      ]
     },
     "execution_count": 22,
     "metadata": {},
     "output_type": "execute_result"
    }
   ],
   "source": [
    "model.score(X_test,y_test)"
   ]
  }
 ],
 "metadata": {
  "kernelspec": {
   "display_name": "Python 3",
   "language": "python",
   "name": "python3"
  },
  "language_info": {
   "codemirror_mode": {
    "name": "ipython",
    "version": 3
   },
   "file_extension": ".py",
   "mimetype": "text/x-python",
   "name": "python",
   "nbconvert_exporter": "python",
   "pygments_lexer": "ipython3",
   "version": "3.10.10"
  },
  "papermill": {
   "default_parameters": {},
   "duration": 21.891629,
   "end_time": "2023-06-05T11:13:01.433811",
   "environment_variables": {},
   "exception": null,
   "input_path": "__notebook__.ipynb",
   "output_path": "__notebook__.ipynb",
   "parameters": {},
   "start_time": "2023-06-05T11:12:39.542182",
   "version": "2.4.0"
  }
 },
 "nbformat": 4,
 "nbformat_minor": 5
}
